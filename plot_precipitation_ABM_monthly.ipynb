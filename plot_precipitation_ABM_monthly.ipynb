{
 "cells": [
  {
   "cell_type": "markdown",
   "metadata": {},
   "source": [
    "Now we want to compute the create summaries of rainfall-by-month."
   ]
  },
  {
   "cell_type": "code",
   "execution_count": 25,
   "metadata": {
    "collapsed": false
   },
   "outputs": [],
   "source": [
    "import numpy as np\n",
    "import pandas as pd\n",
    "import os\n",
    "import calendar\n",
    "%matplotlib inline"
   ]
  },
  {
   "cell_type": "markdown",
   "metadata": {},
   "source": [
    "Set the directory and file name:"
   ]
  },
  {
   "cell_type": "code",
   "execution_count": 2,
   "metadata": {
    "collapsed": true
   },
   "outputs": [],
   "source": [
    "datadir = '../data/'\n",
    "datafile = os.path.join(datadir, 'IDCJAC0009_005085_2014_Data.csv')"
   ]
  },
  {
   "cell_type": "markdown",
   "metadata": {},
   "source": [
    "# Data reading"
   ]
  },
  {
   "cell_type": "code",
   "execution_count": 39,
   "metadata": {
    "collapsed": false
   },
   "outputs": [],
   "source": [
    "df = pd.read_csv(datafile)\n",
    "# Extract the station number\n",
    "station_number = (df.loc[0, 'Bureau of Meteorology station number'])\n",
    "dates = pd.to_datetime(df[['Year', 'Month', 'Day']])\n",
    "df.index = dates"
   ]
  },
  {
   "cell_type": "markdown",
   "metadata": {},
   "source": [
    "## Selection by month"
   ]
  },
  {
   "cell_type": "markdown",
   "metadata": {},
   "source": [
    "In order to compute monthly mean, we need to select the data corresponding to each month.<br>\n",
    "Pandas provides the function [groupy](http://pandas.pydata.org/pandas-docs/stable/generated/pandas.DataFrame.groupby.html) that we can use on our data frame."
   ]
  },
  {
   "cell_type": "code",
   "execution_count": 4,
   "metadata": {
    "collapsed": false
   },
   "outputs": [
    {
     "data": {
      "text/html": [
       "<div>\n",
       "<table border=\"1\" class=\"dataframe\">\n",
       "  <thead>\n",
       "    <tr style=\"text-align: right;\">\n",
       "      <th></th>\n",
       "      <th>Bureau of Meteorology station number</th>\n",
       "      <th>Year</th>\n",
       "      <th>Day</th>\n",
       "      <th>Rainfall amount (millimetres)</th>\n",
       "      <th>Period over which rainfall was measured (days)</th>\n",
       "    </tr>\n",
       "    <tr>\n",
       "      <th>Month</th>\n",
       "      <th></th>\n",
       "      <th></th>\n",
       "      <th></th>\n",
       "      <th></th>\n",
       "      <th></th>\n",
       "    </tr>\n",
       "  </thead>\n",
       "  <tbody>\n",
       "    <tr>\n",
       "      <th>1</th>\n",
       "      <td>157635</td>\n",
       "      <td>62434</td>\n",
       "      <td>496</td>\n",
       "      <td>93.0</td>\n",
       "      <td>3.0</td>\n",
       "    </tr>\n",
       "    <tr>\n",
       "      <th>2</th>\n",
       "      <td>142380</td>\n",
       "      <td>56392</td>\n",
       "      <td>406</td>\n",
       "      <td>12.0</td>\n",
       "      <td>1.0</td>\n",
       "    </tr>\n",
       "    <tr>\n",
       "      <th>3</th>\n",
       "      <td>157635</td>\n",
       "      <td>62434</td>\n",
       "      <td>496</td>\n",
       "      <td>39.0</td>\n",
       "      <td>4.0</td>\n",
       "    </tr>\n",
       "    <tr>\n",
       "      <th>4</th>\n",
       "      <td>152550</td>\n",
       "      <td>60420</td>\n",
       "      <td>465</td>\n",
       "      <td>0.0</td>\n",
       "      <td>NaN</td>\n",
       "    </tr>\n",
       "    <tr>\n",
       "      <th>5</th>\n",
       "      <td>157635</td>\n",
       "      <td>62434</td>\n",
       "      <td>496</td>\n",
       "      <td>49.9</td>\n",
       "      <td>6.0</td>\n",
       "    </tr>\n",
       "    <tr>\n",
       "      <th>6</th>\n",
       "      <td>152550</td>\n",
       "      <td>60420</td>\n",
       "      <td>465</td>\n",
       "      <td>3.0</td>\n",
       "      <td>1.0</td>\n",
       "    </tr>\n",
       "    <tr>\n",
       "      <th>7</th>\n",
       "      <td>157635</td>\n",
       "      <td>62434</td>\n",
       "      <td>496</td>\n",
       "      <td>0.0</td>\n",
       "      <td>NaN</td>\n",
       "    </tr>\n",
       "    <tr>\n",
       "      <th>8</th>\n",
       "      <td>157635</td>\n",
       "      <td>62434</td>\n",
       "      <td>496</td>\n",
       "      <td>0.0</td>\n",
       "      <td>NaN</td>\n",
       "    </tr>\n",
       "    <tr>\n",
       "      <th>9</th>\n",
       "      <td>152550</td>\n",
       "      <td>60420</td>\n",
       "      <td>465</td>\n",
       "      <td>0.0</td>\n",
       "      <td>NaN</td>\n",
       "    </tr>\n",
       "    <tr>\n",
       "      <th>10</th>\n",
       "      <td>157635</td>\n",
       "      <td>62434</td>\n",
       "      <td>496</td>\n",
       "      <td>0.0</td>\n",
       "      <td>NaN</td>\n",
       "    </tr>\n",
       "    <tr>\n",
       "      <th>11</th>\n",
       "      <td>152550</td>\n",
       "      <td>60420</td>\n",
       "      <td>465</td>\n",
       "      <td>12.6</td>\n",
       "      <td>2.0</td>\n",
       "    </tr>\n",
       "    <tr>\n",
       "      <th>12</th>\n",
       "      <td>157635</td>\n",
       "      <td>62434</td>\n",
       "      <td>496</td>\n",
       "      <td>15.8</td>\n",
       "      <td>2.0</td>\n",
       "    </tr>\n",
       "  </tbody>\n",
       "</table>\n",
       "</div>"
      ],
      "text/plain": [
       "       Bureau of Meteorology station number   Year  Day  \\\n",
       "Month                                                     \n",
       "1                                    157635  62434  496   \n",
       "2                                    142380  56392  406   \n",
       "3                                    157635  62434  496   \n",
       "4                                    152550  60420  465   \n",
       "5                                    157635  62434  496   \n",
       "6                                    152550  60420  465   \n",
       "7                                    157635  62434  496   \n",
       "8                                    157635  62434  496   \n",
       "9                                    152550  60420  465   \n",
       "10                                   157635  62434  496   \n",
       "11                                   152550  60420  465   \n",
       "12                                   157635  62434  496   \n",
       "\n",
       "       Rainfall amount (millimetres)  \\\n",
       "Month                                  \n",
       "1                               93.0   \n",
       "2                               12.0   \n",
       "3                               39.0   \n",
       "4                                0.0   \n",
       "5                               49.9   \n",
       "6                                3.0   \n",
       "7                                0.0   \n",
       "8                                0.0   \n",
       "9                                0.0   \n",
       "10                               0.0   \n",
       "11                              12.6   \n",
       "12                              15.8   \n",
       "\n",
       "       Period over which rainfall was measured (days)  \n",
       "Month                                                  \n",
       "1                                                 3.0  \n",
       "2                                                 1.0  \n",
       "3                                                 4.0  \n",
       "4                                                 NaN  \n",
       "5                                                 6.0  \n",
       "6                                                 1.0  \n",
       "7                                                 NaN  \n",
       "8                                                 NaN  \n",
       "9                                                 NaN  \n",
       "10                                                NaN  \n",
       "11                                                2.0  \n",
       "12                                                2.0  "
      ]
     },
     "execution_count": 4,
     "metadata": {},
     "output_type": "execute_result"
    }
   ],
   "source": [
    "df_month = df.groupby(['Month']).sum()\n",
    "df_month"
   ]
  },
  {
   "cell_type": "markdown",
   "metadata": {},
   "source": [
    "The data are grouped by month then the operation mean is applied to all the columns."
   ]
  },
  {
   "cell_type": "markdown",
   "metadata": {},
   "source": [
    "# Plot"
   ]
  },
  {
   "cell_type": "markdown",
   "metadata": {},
   "source": [
    "For this figure we want to have a histogram.<br>\n",
    "We use the pandas [hist](http://pandas.pydata.org/pandas-docs/stable/generated/pandas.DataFrame.hist.html) function."
   ]
  },
  {
   "cell_type": "code",
   "execution_count": 44,
   "metadata": {
    "collapsed": false
   },
   "outputs": [
    {
     "data": {
      "text/plain": [
       "<matplotlib.text.Text at 0xb671910>"
      ]
     },
     "execution_count": 44,
     "metadata": {},
     "output_type": "execute_result"
    },
    {
     "data": {
      "image/png": "[encoded data removed]",
      "text/plain": [
       "<matplotlib.figure.Figure at 0xad7fa90>"
      ]
     },
     "metadata": {},
     "output_type": "display_data"
    }
   ],
   "source": [
    "plt = df_month.plot(kind='bar', y = 'Rainfall amount (millimetres)',\n",
    "                    figsize=(12 , 8), fontsize=18,\n",
    "                    )\n",
    "plt.set_xticklabels(calendar.month_name[1:], rotation=45)\n",
    "plt.set_title('Bureau of Meteorology station number ' + str(station_number), fontsize='24')\n",
    "plt.set_xlabel('')"
   ]
  }
 ],
 "metadata": {
  "kernelspec": {
   "display_name": "Python 2",
   "language": "python",
   "name": "python2"
  },
  "language_info": {
   "codemirror_mode": {
    "name": "ipython",
    "version": 2
   },
   "file_extension": ".py",
   "mimetype": "text/x-python",
   "name": "python",
   "nbconvert_exporter": "python",
   "pygments_lexer": "ipython2",
   "version": "2.7.3"
  }
 },
 "nbformat": 4,
 "nbformat_minor": 0
}
