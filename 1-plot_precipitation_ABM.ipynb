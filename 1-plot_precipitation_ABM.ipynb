{
 "cells": [
  {
   "cell_type": "markdown",
   "metadata": {},
   "source": [
    "We show how to read and plot data contained in a csv file.<br>\n",
    "Data are downloaded from http://www.bom.gov.au/climate/data/index.shtml."
   ]
  },
  {
   "cell_type": "code",
   "execution_count": 6,
   "metadata": {
    "collapsed": false
   },
   "outputs": [],
   "source": [
    "import numpy as np\n",
    "import pandas as pd\n",
    "import os\n",
    "%matplotlib inline"
   ]
  },
  {
   "cell_type": "markdown",
   "metadata": {},
   "source": [
    "Set the directory and file name:"
   ]
  },
  {
   "cell_type": "code",
   "execution_count": 7,
   "metadata": {
    "collapsed": true
   },
   "outputs": [],
   "source": [
    "datadir = '../data/'\n",
    "datafile = os.path.join(datadir, 'IDCJAC0009_005085_2014_Data.csv')"
   ]
  },
  {
   "cell_type": "markdown",
   "metadata": {},
   "source": [
    "[pandas](http://pandas.pydata.org/) (Python Data Analysis Library) has a function [read_csv](http://pandas.pydata.org/pandas-docs/stable/generated/pandas.read_csv.html) to read data files in this format:"
   ]
  },
  {
   "cell_type": "code",
   "execution_count": 8,
   "metadata": {
    "collapsed": true
   },
   "outputs": [],
   "source": [
    "df = pd.read_csv(datafile)"
   ]
  },
  {
   "cell_type": "code",
   "execution_count": 26,
   "metadata": {
    "collapsed": false
   },
   "outputs": [
    {
     "name": "stdout",
     "output_type": "stream",
     "text": [
      "    Product code  Bureau of Meteorology station number  Year  Month  Day  \\\n",
      "0     IDCJAC0009                                  5085  2014      1    1   \n",
      "1     IDCJAC0009                                  5085  2014      1    2   \n",
      "2     IDCJAC0009                                  5085  2014      1    3   \n",
      "3     IDCJAC0009                                  5085  2014      1    4   \n",
      "4     IDCJAC0009                                  5085  2014      1    5   \n",
      "5     IDCJAC0009                                  5085  2014      1    6   \n",
      "6     IDCJAC0009                                  5085  2014      1    7   \n",
      "7     IDCJAC0009                                  5085  2014      1    8   \n",
      "8     IDCJAC0009                                  5085  2014      1    9   \n",
      "9     IDCJAC0009                                  5085  2014      1   10   \n",
      "10    IDCJAC0009                                  5085  2014      1   11   \n",
      "11    IDCJAC0009                                  5085  2014      1   12   \n",
      "12    IDCJAC0009                                  5085  2014      1   13   \n",
      "13    IDCJAC0009                                  5085  2014      1   14   \n",
      "14    IDCJAC0009                                  5085  2014      1   15   \n",
      "15    IDCJAC0009                                  5085  2014      1   16   \n",
      "16    IDCJAC0009                                  5085  2014      1   17   \n",
      "17    IDCJAC0009                                  5085  2014      1   18   \n",
      "18    IDCJAC0009                                  5085  2014      1   19   \n",
      "19    IDCJAC0009                                  5085  2014      1   20   \n",
      "20    IDCJAC0009                                  5085  2014      1   21   \n",
      "21    IDCJAC0009                                  5085  2014      1   22   \n",
      "22    IDCJAC0009                                  5085  2014      1   23   \n",
      "23    IDCJAC0009                                  5085  2014      1   24   \n",
      "24    IDCJAC0009                                  5085  2014      1   25   \n",
      "25    IDCJAC0009                                  5085  2014      1   26   \n",
      "26    IDCJAC0009                                  5085  2014      1   27   \n",
      "27    IDCJAC0009                                  5085  2014      1   28   \n",
      "28    IDCJAC0009                                  5085  2014      1   29   \n",
      "29    IDCJAC0009                                  5085  2014      1   30   \n",
      "..           ...                                   ...   ...    ...  ...   \n",
      "335   IDCJAC0009                                  5085  2014     12    2   \n",
      "336   IDCJAC0009                                  5085  2014     12    3   \n",
      "337   IDCJAC0009                                  5085  2014     12    4   \n",
      "338   IDCJAC0009                                  5085  2014     12    5   \n",
      "339   IDCJAC0009                                  5085  2014     12    6   \n",
      "340   IDCJAC0009                                  5085  2014     12    7   \n",
      "341   IDCJAC0009                                  5085  2014     12    8   \n",
      "342   IDCJAC0009                                  5085  2014     12    9   \n",
      "343   IDCJAC0009                                  5085  2014     12   10   \n",
      "344   IDCJAC0009                                  5085  2014     12   11   \n",
      "345   IDCJAC0009                                  5085  2014     12   12   \n",
      "346   IDCJAC0009                                  5085  2014     12   13   \n",
      "347   IDCJAC0009                                  5085  2014     12   14   \n",
      "348   IDCJAC0009                                  5085  2014     12   15   \n",
      "349   IDCJAC0009                                  5085  2014     12   16   \n",
      "350   IDCJAC0009                                  5085  2014     12   17   \n",
      "351   IDCJAC0009                                  5085  2014     12   18   \n",
      "352   IDCJAC0009                                  5085  2014     12   19   \n",
      "353   IDCJAC0009                                  5085  2014     12   20   \n",
      "354   IDCJAC0009                                  5085  2014     12   21   \n",
      "355   IDCJAC0009                                  5085  2014     12   22   \n",
      "356   IDCJAC0009                                  5085  2014     12   23   \n",
      "357   IDCJAC0009                                  5085  2014     12   24   \n",
      "358   IDCJAC0009                                  5085  2014     12   25   \n",
      "359   IDCJAC0009                                  5085  2014     12   26   \n",
      "360   IDCJAC0009                                  5085  2014     12   27   \n",
      "361   IDCJAC0009                                  5085  2014     12   28   \n",
      "362   IDCJAC0009                                  5085  2014     12   29   \n",
      "363   IDCJAC0009                                  5085  2014     12   30   \n",
      "364   IDCJAC0009                                  5085  2014     12   31   \n",
      "\n",
      "     Rainfall amount (millimetres)  \\\n",
      "0                             38.0   \n",
      "1                              0.0   \n",
      "2                              0.0   \n",
      "3                              0.0   \n",
      "4                              0.0   \n",
      "5                              0.0   \n",
      "6                              0.0   \n",
      "7                              0.0   \n",
      "8                              0.0   \n",
      "9                              0.0   \n",
      "10                             0.0   \n",
      "11                             0.0   \n",
      "12                             0.0   \n",
      "13                             0.0   \n",
      "14                             0.0   \n",
      "15                             0.0   \n",
      "16                             0.0   \n",
      "17                             0.0   \n",
      "18                             0.0   \n",
      "19                             0.0   \n",
      "20                             0.0   \n",
      "21                            20.0   \n",
      "22                             0.0   \n",
      "23                             0.0   \n",
      "24                             0.0   \n",
      "25                             0.0   \n",
      "26                             0.0   \n",
      "27                             0.0   \n",
      "28                             0.0   \n",
      "29                             0.0   \n",
      "..                             ...   \n",
      "335                            0.0   \n",
      "336                            0.0   \n",
      "337                            0.0   \n",
      "338                            0.0   \n",
      "339                            0.0   \n",
      "340                            0.0   \n",
      "341                            0.0   \n",
      "342                            0.0   \n",
      "343                            0.0   \n",
      "344                            0.0   \n",
      "345                            0.0   \n",
      "346                            0.0   \n",
      "347                            0.0   \n",
      "348                            0.0   \n",
      "349                            0.0   \n",
      "350                            0.0   \n",
      "351                            0.0   \n",
      "352                            0.0   \n",
      "353                            0.0   \n",
      "354                            0.0   \n",
      "355                            0.0   \n",
      "356                            0.0   \n",
      "357                            2.4   \n",
      "358                           13.4   \n",
      "359                            0.0   \n",
      "360                            0.0   \n",
      "361                            0.0   \n",
      "362                            0.0   \n",
      "363                            0.0   \n",
      "364                            0.0   \n",
      "\n",
      "     Period over which rainfall was measured (days) Quality  \n",
      "0                                               1.0       Y  \n",
      "1                                               NaN       Y  \n",
      "2                                               NaN       Y  \n",
      "3                                               NaN       Y  \n",
      "4                                               NaN       Y  \n",
      "5                                               NaN       Y  \n",
      "6                                               NaN       Y  \n",
      "7                                               NaN       Y  \n",
      "8                                               NaN       Y  \n",
      "9                                               NaN       Y  \n",
      "10                                              NaN       Y  \n",
      "11                                              NaN       Y  \n",
      "12                                              NaN       Y  \n",
      "13                                              NaN       Y  \n",
      "14                                              NaN       Y  \n",
      "15                                              NaN       Y  \n",
      "16                                              NaN       Y  \n",
      "17                                              NaN       Y  \n",
      "18                                              NaN       Y  \n",
      "19                                              NaN       Y  \n",
      "20                                              NaN       Y  \n",
      "21                                              1.0       Y  \n",
      "22                                              NaN       Y  \n",
      "23                                              NaN       Y  \n",
      "24                                              NaN       Y  \n",
      "25                                              NaN       Y  \n",
      "26                                              NaN       Y  \n",
      "27                                              NaN       Y  \n",
      "28                                              NaN       Y  \n",
      "29                                              NaN       Y  \n",
      "..                                              ...     ...  \n",
      "335                                             NaN       Y  \n",
      "336                                             NaN       Y  \n",
      "337                                             NaN       Y  \n",
      "338                                             NaN       Y  \n",
      "339                                             NaN       Y  \n",
      "340                                             NaN       Y  \n",
      "341                                             NaN       Y  \n",
      "342                                             NaN       Y  \n",
      "343                                             NaN       Y  \n",
      "344                                             NaN       Y  \n",
      "345                                             NaN       Y  \n",
      "346                                             NaN       Y  \n",
      "347                                             NaN       Y  \n",
      "348                                             NaN       Y  \n",
      "349                                             NaN       Y  \n",
      "350                                             NaN       Y  \n",
      "351                                             NaN       Y  \n",
      "352                                             NaN       Y  \n",
      "353                                             NaN       Y  \n",
      "354                                             NaN       Y  \n",
      "355                                             NaN       Y  \n",
      "356                                             NaN       Y  \n",
      "357                                             1.0       Y  \n",
      "358                                             1.0       Y  \n",
      "359                                             NaN       Y  \n",
      "360                                             NaN       Y  \n",
      "361                                             NaN       Y  \n",
      "362                                             NaN       Y  \n",
      "363                                             NaN       Y  \n",
      "364                                             NaN       Y  \n",
      "\n",
      "[365 rows x 8 columns]\n"
     ]
    }
   ],
   "source": [
    "print(df)"
   ]
  },
  {
   "cell_type": "markdown",
   "metadata": {},
   "source": [
    "To create the time series plot it is necessary to convert the year, month, day into dates.<br>\n",
    "We use the [to_datetime](http://pandas.pydata.org/pandas-docs/stable/timeseries.html) function."
   ]
  },
  {
   "cell_type": "code",
   "execution_count": 29,
   "metadata": {
    "collapsed": false
   },
   "outputs": [
    {
     "name": "stdout",
     "output_type": "stream",
     "text": [
      "0   2014-01-01\n",
      "1   2014-01-02\n",
      "2   2014-01-03\n",
      "3   2014-01-04\n",
      "4   2014-01-05\n",
      "dtype: datetime64[ns]\n"
     ]
    }
   ],
   "source": [
    "dates = pd.to_datetime(df[['Year', 'Month', 'Day']])\n",
    "print(dates[:5])"
   ]
  },
  {
   "cell_type": "markdown",
   "metadata": {},
   "source": [
    "# Plot"
   ]
  },
  {
   "cell_type": "markdown",
   "metadata": {},
   "source": [
    "For the plot we simply have to indicate the x and y coordinates:\n",
    "* for x it will be the date we've just computed,\n",
    "* for y we will select the Rainfall amount."
   ]
  },
  {
   "cell_type": "code",
   "execution_count": 25,
   "metadata": {
    "collapsed": false
   },
   "outputs": [
    {
     "data": {
      "text/plain": [
       "<matplotlib.axes._subplots.AxesSubplot at 0x7da4b10>"
      ]
     },
     "execution_count": 25,
     "metadata": {},
     "output_type": "execute_result"
    },
    {
     "data": {
      "image/png": "[encoded data removed]",
      "text/plain": [
       "<matplotlib.figure.Figure at 0x7ae9650>"
      ]
     },
     "metadata": {},
     "output_type": "display_data"
    }
   ],
   "source": [
    "df.plot(dates, y='Rainfall amount (millimetres)', \n",
    "        fontsize=16, figsize=(10, 8), \n",
    "        title='Precipitation data from Australian Bureau of Meteorology')"
   ]
  }
 ],
 "metadata": {
  "kernelspec": {
   "display_name": "Python 2",
   "language": "python",
   "name": "python2"
  },
  "language_info": {
   "codemirror_mode": {
    "name": "ipython",
    "version": 2
   },
   "file_extension": ".py",
   "mimetype": "text/x-python",
   "name": "python",
   "nbconvert_exporter": "python",
   "pygments_lexer": "ipython2",
   "version": "2.7.3"
  }
 },
 "nbformat": 4,
 "nbformat_minor": 0
}
